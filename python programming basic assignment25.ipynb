{
 "cells": [
  {
   "cell_type": "code",
   "execution_count": 1,
   "id": "04e6c884",
   "metadata": {},
   "outputs": [],
   "source": [
    "#Create a function that takes three integer arguments (a, b, c) and returns the amount of integers which are of equal value.\n",
    "def equal(a,b,c):\n",
    "    l=[a,b,c]\n",
    "    if a==b==c:\n",
    "        return 3\n",
    "    elif a==b or b==c or c==a:\n",
    "        return 2\n",
    "    else:\n",
    "        return 0"
   ]
  },
  {
   "cell_type": "code",
   "execution_count": 2,
   "id": "177d4265",
   "metadata": {},
   "outputs": [
    {
     "data": {
      "text/plain": [
       "2"
      ]
     },
     "execution_count": 2,
     "metadata": {},
     "output_type": "execute_result"
    }
   ],
   "source": [
    "equal(3,4,3)"
   ]
  },
  {
   "cell_type": "code",
   "execution_count": 3,
   "id": "1ff737c4",
   "metadata": {},
   "outputs": [
    {
     "data": {
      "text/plain": [
       "3"
      ]
     },
     "execution_count": 3,
     "metadata": {},
     "output_type": "execute_result"
    }
   ],
   "source": [
    "equal(1,1,1)"
   ]
  },
  {
   "cell_type": "code",
   "execution_count": 4,
   "id": "73e5c1ec",
   "metadata": {},
   "outputs": [
    {
     "data": {
      "text/plain": [
       "0"
      ]
     },
     "execution_count": 4,
     "metadata": {},
     "output_type": "execute_result"
    }
   ],
   "source": [
    "equal(3,4,1)"
   ]
  },
  {
   "cell_type": "code",
   "execution_count": 5,
   "id": "75fcd518",
   "metadata": {},
   "outputs": [],
   "source": [
    "'''Write a function that converts a dictionary into a list of keys-values tuples.\n",
    "All of the letters in the input list will always be lowercase.'''\n",
    "def dicttolist(d):\n",
    "    s=[]\n",
    "    l=list(d.keys())\n",
    "    l.sort()\n",
    "    for i in l:\n",
    "        s.append((i,d[i]))\n",
    "    return s"
   ]
  },
  {
   "cell_type": "code",
   "execution_count": 6,
   "id": "6d026bd9",
   "metadata": {},
   "outputs": [
    {
     "data": {
      "text/plain": [
       "[('B', 2), ('C', 3), ('D', 1)]"
      ]
     },
     "execution_count": 6,
     "metadata": {},
     "output_type": "execute_result"
    }
   ],
   "source": [
    "dicttolist({\"D\":1,\"B\":2,\"C\":3})"
   ]
  },
  {
   "cell_type": "code",
   "execution_count": 7,
   "id": "04038319",
   "metadata": {},
   "outputs": [
    {
     "data": {
      "text/plain": [
       "[('dislikes', 3), ('followers', 10), ('likes', 2)]"
      ]
     },
     "execution_count": 7,
     "metadata": {},
     "output_type": "execute_result"
    }
   ],
   "source": [
    "dicttolist({\"likes\":2,\"dislikes\":3,\"followers\":10})"
   ]
  },
  {
   "cell_type": "code",
   "execution_count": 8,
   "id": "12064b17",
   "metadata": {},
   "outputs": [],
   "source": [
    "'''Write a function that creates a dictionary with each (key, value) pair being the (lower case, upper case) versions of a \n",
    "letter,respectively.All of the letters in the input list will always be lowercase.'''\n",
    "def mapping(l):\n",
    "    d={}\n",
    "    for i in l:\n",
    "        d[i]=i.upper()\n",
    "    return d"
   ]
  },
  {
   "cell_type": "code",
   "execution_count": 9,
   "id": "d9c69133",
   "metadata": {},
   "outputs": [
    {
     "data": {
      "text/plain": [
       "{'p': 'P', 's': 'S'}"
      ]
     },
     "execution_count": 9,
     "metadata": {},
     "output_type": "execute_result"
    }
   ],
   "source": [
    "mapping([\"p\",\"s\"])"
   ]
  },
  {
   "cell_type": "code",
   "execution_count": 10,
   "id": "678e3bed",
   "metadata": {},
   "outputs": [
    {
     "data": {
      "text/plain": [
       "{'a': 'A', 'b': 'B', 'c': 'C'}"
      ]
     },
     "execution_count": 10,
     "metadata": {},
     "output_type": "execute_result"
    }
   ],
   "source": [
    "mapping([\"a\",\"b\",\"c\"])"
   ]
  },
  {
   "cell_type": "code",
   "execution_count": 11,
   "id": "06120fba",
   "metadata": {},
   "outputs": [
    {
     "data": {
      "text/plain": [
       "{'a': 'A', 'v': 'V', 'y': 'Y', 'z': 'Z'}"
      ]
     },
     "execution_count": 11,
     "metadata": {},
     "output_type": "execute_result"
    }
   ],
   "source": [
    "mapping([\"a\",\"v\",\"y\",\"z\"])"
   ]
  },
  {
   "cell_type": "code",
   "execution_count": 12,
   "id": "6f14178e",
   "metadata": {},
   "outputs": [],
   "source": [
    "'''Write a function, that replaces all vowels in a string with a specified vowel.All words will be lowercase. \n",
    "Y is not considered a vowel.'''\n",
    "def vowelreplace(s,e):\n",
    "    v=\"aeiou\"\n",
    "    for i in s:\n",
    "        if i in v:\n",
    "            s=s.replace(i,e)\n",
    "        else:\n",
    "            continue\n",
    "    return s\n",
    "    "
   ]
  },
  {
   "cell_type": "code",
   "execution_count": 13,
   "id": "1b7b295f",
   "metadata": {},
   "outputs": [
    {
     "data": {
      "text/plain": [
       "'upplus und bununus'"
      ]
     },
     "execution_count": 13,
     "metadata": {},
     "output_type": "execute_result"
    }
   ],
   "source": [
    "vowelreplace(\"apples and bananas\",\"u\")"
   ]
  },
  {
   "cell_type": "code",
   "execution_count": 14,
   "id": "2867cc15",
   "metadata": {},
   "outputs": [
    {
     "data": {
      "text/plain": [
       "'chooso cossorolo'"
      ]
     },
     "execution_count": 14,
     "metadata": {},
     "output_type": "execute_result"
    }
   ],
   "source": [
    "vowelreplace(\"cheese casserole\",\"o\")"
   ]
  },
  {
   "cell_type": "code",
   "execution_count": 15,
   "id": "1905e494",
   "metadata": {},
   "outputs": [
    {
     "data": {
      "text/plain": [
       "'steffed jelepene peppers'"
      ]
     },
     "execution_count": 15,
     "metadata": {},
     "output_type": "execute_result"
    }
   ],
   "source": [
    "vowelreplace(\"stuffed jalapeno poppers\",\"e\")"
   ]
  },
  {
   "cell_type": "code",
   "execution_count": 16,
   "id": "7066e9a9",
   "metadata": {},
   "outputs": [],
   "source": [
    "'''Create a function that takes a string as input and capitalizes a letter if its ASCII code is even and returns its\n",
    "lower case version if its ASCII code is odd.'''\n",
    "def asciicapitalize(s):\n",
    "    for i in s:\n",
    "        if ord(i)%2==0:\n",
    "            s=s.replace(i,i.upper())\n",
    "        else:\n",
    "            s=s.replace(i,i.lower())\n",
    "    return s"
   ]
  },
  {
   "cell_type": "code",
   "execution_count": 17,
   "id": "22f1dcba",
   "metadata": {},
   "outputs": [
    {
     "data": {
      "text/plain": [
       "'To Be oR NoT To Be!'"
      ]
     },
     "execution_count": 17,
     "metadata": {},
     "output_type": "execute_result"
    }
   ],
   "source": [
    "asciicapitalize(\"to be or not to be!\")"
   ]
  },
  {
   "cell_type": "code",
   "execution_count": 18,
   "id": "e2b1d339",
   "metadata": {},
   "outputs": [
    {
     "data": {
      "text/plain": [
       "'THe LiTTLe meRmaiD'"
      ]
     },
     "execution_count": 18,
     "metadata": {},
     "output_type": "execute_result"
    }
   ],
   "source": [
    "asciicapitalize(\"THE LITTLE MERMAID\")"
   ]
  },
  {
   "cell_type": "code",
   "execution_count": 19,
   "id": "8338dee9",
   "metadata": {},
   "outputs": [
    {
     "data": {
      "text/plain": [
       "'oH wHaT a BeauTiFuL moRNiNg.'"
      ]
     },
     "execution_count": 19,
     "metadata": {},
     "output_type": "execute_result"
    }
   ],
   "source": [
    "asciicapitalize(\"Oh what a beautiful morning.\")"
   ]
  }
 ],
 "metadata": {
  "kernelspec": {
   "display_name": "Python 3 (ipykernel)",
   "language": "python",
   "name": "python3"
  },
  "language_info": {
   "codemirror_mode": {
    "name": "ipython",
    "version": 3
   },
   "file_extension": ".py",
   "mimetype": "text/x-python",
   "name": "python",
   "nbconvert_exporter": "python",
   "pygments_lexer": "ipython3",
   "version": "3.10.9"
  }
 },
 "nbformat": 4,
 "nbformat_minor": 5
}
